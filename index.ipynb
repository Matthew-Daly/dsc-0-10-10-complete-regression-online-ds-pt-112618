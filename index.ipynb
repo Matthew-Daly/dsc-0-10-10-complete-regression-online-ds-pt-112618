{
 "cells": [
  {
   "cell_type": "markdown",
   "metadata": {},
   "source": [
    "# Regression Lab\n",
    "\n",
    "Now have all the necessary functions to calculate the slope, intercept, best-fit line, prediction and visualizations. In this lab you will put them all together to run a regression experiment and calculate model loss. \n",
    "\n",
    "## SWBAT\n",
    "\n",
    "* Run a complete regression analysis through code only. "
   ]
  },
  {
   "cell_type": "markdown",
   "metadata": {},
   "source": [
    "## Here are all the formulas to put everything in perspective\n",
    "\n",
    "#### Slope\n",
    "<img src=\"m.png\" width = 300>\n",
    "\n",
    "#### Intercept \n",
    "<img src=\"b.png\" width = 200>\n",
    "\n",
    "#### R-squared\n",
    "<img src=\"r2.png\" width = 400>\n",
    "\n",
    "#### Prediction\n",
    "![](pred.jpg)\n",
    "\n",
    "\n",
    "Use the functions created earlier to implement these formulas to run a regression analysis using X and Y as input variables. "
   ]
  },
  {
   "cell_type": "code",
   "execution_count": 9,
   "metadata": {},
   "outputs": [],
   "source": [
    "\n",
    "# Combine all the functions created so far to run a complete regression experiment. \n",
    "# Produce an output similar to the one shown below. \n",
    "\n",
    "X = np.array([1,2,3,4,5,6,7,8,9,10], dtype=np.float64)\n",
    "Y = np.array([7,7,8,9,9,10,10,11,11,12], dtype=np.float64)\n"
   ]
  },
  {
   "cell_type": "code",
   "execution_count": 31,
   "metadata": {},
   "outputs": [
    {
     "name": "stdout",
     "output_type": "stream",
     "text": [
      "Basic Regression Diagnostics\n",
      "----------------------------\n",
      "Slope: 0.56\n",
      "Y-Intercept: 6.32\n",
      "R-Squared: 0.97\n",
      "----------------------------\n",
      "Model: Y = 0.56 * X + 6.32\n"
     ]
    },
    {
     "data": {
      "image/png": "[encoded data removed]",
      "text/plain": [
       "<Figure size 432x288 with 1 Axes>"
      ]
     },
     "metadata": {},
     "output_type": "display_data"
    }
   ],
   "source": [
    "# Basic Regression Diagnostics\n",
    "import numpy as np\n",
    "import matplotlib.pyplot as plt\n",
    "from matplotlib import style\n",
    "style.use('ggplot')\n",
    "\n",
    "def slope(xs, ys):\n",
    "    xs_mean = np.mean(xs)\n",
    "    ys_mean = np.mean(ys)\n",
    "    m = round(((xs_mean * ys_mean) - np.mean(xs*ys)) / ((xs_mean **2) - np.mean(xs ** 2)), 2) \n",
    "    \n",
    "    return m\n",
    "\n",
    "def intercept(xs, ys):\n",
    "    y_intercept = np.mean(ys) - (slope(xs, ys)*np.mean(xs)) \n",
    "    return y_intercept\n",
    "\n",
    "def best_fit(xs, ys):\n",
    "    m = slope(xs, ys)\n",
    "    b = intercept(xs, ys)\n",
    "    \n",
    "    return m, b\n",
    "\n",
    "def line(m, b, X):\n",
    "    return [(m*x)+b for x in X]\n",
    "\n",
    "def sq_err(ys_a, ys_b):\n",
    "        \n",
    "    squarred_error = 0\n",
    "    for x in range(0, len(ys_a)):\n",
    "        squarred_error += (ys_a[x] - ys_b[x]) ** 2\n",
    "    return squarred_error\n",
    "\n",
    "def r_squared(ys_real, ys_predicted):\n",
    "    \n",
    "    # calculate the numerator\n",
    "    num = sq_err(ys_real, ys_predicted)\n",
    "    # calculate the denominator\n",
    "    denom = 0\n",
    "    for x in ys_real:\n",
    "        denom += (x - ys_real.mean()) ** 2\n",
    "    return round((1 - (num / denom)), 2)\n",
    "def plot_line(X, Y, Y_P):\n",
    "    plt.scatter(X, Y, color='blue', label='data')\n",
    "    plt.plot(X, Y_P, label='regression line')\n",
    "    plt.legend()\n",
    "    plt.show()\n",
    "\n",
    "m, b = best_fit(X, Y)\n",
    "Y_P = line(m, b, X)\n",
    "r_sqr = r_squared(Y, Y_P)\n",
    "\n",
    "print ('Basic Regression Diagnostics')\n",
    "print ('----------------------------')\n",
    "print ('Slope:', m)\n",
    "print ('Y-Intercept:', b)\n",
    "print ('R-Squared:', r_sqr)\n",
    "print ('----------------------------')\n",
    "print ('Model: Y =', m,'* X +', b)\n",
    "\n",
    "plot_line(X, Y, Y_P)\n",
    "# ----------------------------\n",
    "# Slope: 0.56\n",
    "# Y-Intercept: 6.33\n",
    "# R-Squared: 0.97\n",
    "# ----------------------------\n",
    "# Model: Y = 0.56 * X + 6.33"
   ]
  },
  {
   "cell_type": "markdown",
   "metadata": {},
   "source": [
    "## Make Predictions\n",
    "\n",
    "Predict and plot the value of y using regression line above for a new value of x = 4.5."
   ]
  },
  {
   "cell_type": "code",
   "execution_count": null,
   "metadata": {},
   "outputs": [],
   "source": [
    "# Make prediction using given value and visualize on the scatter plot\n"
   ]
  },
  {
   "cell_type": "code",
   "execution_count": 66,
   "metadata": {},
   "outputs": [
    {
     "data": {
      "image/png": "[encoded data removed]",
      "text/plain": [
       "<matplotlib.figure.Figure at 0x1a17f22b70>"
      ]
     },
     "metadata": {},
     "output_type": "display_data"
    }
   ],
   "source": []
  },
  {
   "cell_type": "markdown",
   "metadata": {},
   "source": [
    "## Level up - Optional \n",
    "Load the \"heightWeight.csv\" dataset. Use the height as an independant and weight as a dependant variable and draw a regression line to data using your code above. Calculate your R-square for the model and try to predict new values of Y. "
   ]
  },
  {
   "cell_type": "markdown",
   "metadata": {},
   "source": [
    "## Summary\n",
    "\n",
    "In this lab, we ran a complete simple regression analysis experiment using functions created so far. Next We shall see how we can use python's built in modules to perform such analyses with a much higher level of sophistication. "
   ]
  },
  {
   "cell_type": "code",
   "execution_count": null,
   "metadata": {},
   "outputs": [],
   "source": []
  }
 ],
 "metadata": {
  "kernelspec": {
   "display_name": "Python 3",
   "language": "python",
   "name": "python3"
  },
  "language_info": {
   "codemirror_mode": {
    "name": "ipython",
    "version": 3
   },
   "file_extension": ".py",
   "mimetype": "text/x-python",
   "name": "python",
   "nbconvert_exporter": "python",
   "pygments_lexer": "ipython3",
   "version": "3.7.0"
  }
 },
 "nbformat": 4,
 "nbformat_minor": 2
}
